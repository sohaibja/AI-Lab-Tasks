{
 "cells": [
  {
   "cell_type": "code",
   "execution_count": 15,
   "id": "b74bc294-b5d1-41c1-a464-9a5b46c05f36",
   "metadata": {},
   "outputs": [
    {
     "name": "stderr",
     "output_type": "stream",
     "text": [
      "<>:2: SyntaxWarning: invalid escape sequence '\\ '\n",
      "<>:11: SyntaxWarning: invalid escape sequence '\\ '\n",
      "<>:20: SyntaxWarning: invalid escape sequence '\\ '\n",
      "<>:2: SyntaxWarning: invalid escape sequence '\\ '\n",
      "<>:11: SyntaxWarning: invalid escape sequence '\\ '\n",
      "<>:20: SyntaxWarning: invalid escape sequence '\\ '\n",
      "C:\\Users\\HP\\AppData\\Local\\Temp\\ipykernel_26540\\3322323237.py:2: SyntaxWarning: invalid escape sequence '\\ '\n",
      "  stages = [\"\"\"\n",
      "C:\\Users\\HP\\AppData\\Local\\Temp\\ipykernel_26540\\3322323237.py:11: SyntaxWarning: invalid escape sequence '\\ '\n",
      "  \"\"\"\n",
      "C:\\Users\\HP\\AppData\\Local\\Temp\\ipykernel_26540\\3322323237.py:20: SyntaxWarning: invalid escape sequence '\\ '\n",
      "  \"\"\"\n"
     ]
    },
    {
     "name": "stdout",
     "output_type": "stream",
     "text": [
      "['_', '_', '_', '_', '_', '_', '_', '_']\n"
     ]
    },
    {
     "name": "stdin",
     "output_type": "stream",
     "text": [
      "Guess a letter S\n"
     ]
    },
    {
     "name": "stdout",
     "output_type": "stream",
     "text": [
      "['s', '_', '_', '_', '_', '_', '_', '_']\n"
     ]
    },
    {
     "name": "stdin",
     "output_type": "stream",
     "text": [
      "Guess a letter U\n"
     ]
    },
    {
     "name": "stdout",
     "output_type": "stream",
     "text": [
      "['s', 'u', '_', '_', '_', '_', '_', '_']\n"
     ]
    },
    {
     "name": "stdin",
     "output_type": "stream",
     "text": [
      "Guess a letter R\n"
     ]
    },
    {
     "name": "stdout",
     "output_type": "stream",
     "text": [
      "['s', 'u', '_', '_', 'r', '_', '_', '_']\n"
     ]
    },
    {
     "name": "stdin",
     "output_type": "stream",
     "text": [
      "Guess a letter d\n"
     ]
    },
    {
     "name": "stdout",
     "output_type": "stream",
     "text": [
      "['s', 'u', '_', '_', 'r', '_', '_', '_']\n",
      "\n",
      "       -----\n",
      "       |   |\n",
      "       O   |\n",
      "           |\n",
      "           |\n",
      "           |\n",
      "    =========\n",
      "    \n",
      "Lives left: 5\n"
     ]
    },
    {
     "name": "stdin",
     "output_type": "stream",
     "text": [
      "Guess a letter a\n"
     ]
    },
    {
     "name": "stdout",
     "output_type": "stream",
     "text": [
      "['s', 'u', '_', '_', 'r', '_', 'a', '_']\n"
     ]
    },
    {
     "name": "stdin",
     "output_type": "stream",
     "text": [
      "Guess a letter x\n"
     ]
    },
    {
     "name": "stdout",
     "output_type": "stream",
     "text": [
      "['s', 'u', '_', '_', 'r', '_', 'a', '_']\n",
      "\n",
      "       -----\n",
      "       |   |\n",
      "       O   |\n",
      "       |   |\n",
      "           |\n",
      "           |\n",
      "    =========\n",
      "    \n",
      "Lives left: 4\n"
     ]
    },
    {
     "name": "stdin",
     "output_type": "stream",
     "text": [
      "Guess a letter v\n"
     ]
    },
    {
     "name": "stdout",
     "output_type": "stream",
     "text": [
      "['s', 'u', '_', '_', 'r', '_', 'a', '_']\n",
      "\n",
      "       -----\n",
      "       |   |\n",
      "       O   |\n",
      "      /|   |\n",
      "           |\n",
      "           |\n",
      "    =========\n",
      "    \n",
      "Lives left: 3\n"
     ]
    },
    {
     "name": "stdin",
     "output_type": "stream",
     "text": [
      "Guess a letter m\n"
     ]
    },
    {
     "name": "stdout",
     "output_type": "stream",
     "text": [
      "['s', 'u', '_', '_', 'r', 'm', 'a', '_']\n"
     ]
    },
    {
     "name": "stdin",
     "output_type": "stream",
     "text": [
      "Guess a letter p\n"
     ]
    },
    {
     "name": "stdout",
     "output_type": "stream",
     "text": [
      "['s', 'u', 'p', '_', 'r', 'm', 'a', '_']\n"
     ]
    },
    {
     "name": "stdin",
     "output_type": "stream",
     "text": [
      "Guess a letter e\n"
     ]
    },
    {
     "name": "stdout",
     "output_type": "stream",
     "text": [
      "['s', 'u', 'p', 'e', 'r', 'm', 'a', '_']\n"
     ]
    },
    {
     "name": "stdin",
     "output_type": "stream",
     "text": [
      "Guess a letter f\n"
     ]
    },
    {
     "name": "stdout",
     "output_type": "stream",
     "text": [
      "['s', 'u', 'p', 'e', 'r', 'm', 'a', '_']\n",
      "\n",
      "       -----\n",
      "       |   |\n",
      "       O   |\n",
      "      /|\\  |\n",
      "           |\n",
      "           |\n",
      "    =========\n",
      "    \n",
      "Lives left: 2\n"
     ]
    },
    {
     "name": "stdin",
     "output_type": "stream",
     "text": [
      "Guess a letter g\n"
     ]
    },
    {
     "name": "stdout",
     "output_type": "stream",
     "text": [
      "['s', 'u', 'p', 'e', 'r', 'm', 'a', '_']\n",
      "\n",
      "       -----\n",
      "       |   |\n",
      "       O   |\n",
      "      /|\\  |\n",
      "      /    |\n",
      "           |\n",
      "    =========\n",
      "    \n",
      "Lives left: 1\n"
     ]
    },
    {
     "name": "stdin",
     "output_type": "stream",
     "text": [
      "Guess a letter j\n"
     ]
    },
    {
     "name": "stdout",
     "output_type": "stream",
     "text": [
      "['s', 'u', 'p', 'e', 'r', 'm', 'a', '_']\n",
      "\n",
      "       -----\n",
      "       |   |\n",
      "       O   |\n",
      "      /|\\  |\n",
      "      / \\  |\n",
      "           |\n",
      "    =========\n",
      "    \n",
      "Lives left: 0\n",
      "You Lose! The word was: superman\n"
     ]
    }
   ],
   "source": [
    "import random\n",
    "stages = [\"\"\"\n",
    "       -----\n",
    "       |   |\n",
    "       O   |\n",
    "      /|\\  |\n",
    "      / \\  |\n",
    "           |\n",
    "    =========\n",
    "    \"\"\",\n",
    "    \"\"\"\n",
    "       -----\n",
    "       |   |\n",
    "       O   |\n",
    "      /|\\  |\n",
    "      /    |\n",
    "           |\n",
    "    =========\n",
    "    \"\"\",\n",
    "    \"\"\"\n",
    "       -----\n",
    "       |   |\n",
    "       O   |\n",
    "      /|\\  |\n",
    "           |\n",
    "           |\n",
    "    =========\n",
    "    \"\"\",\n",
    "    \"\"\"\n",
    "       -----\n",
    "       |   |\n",
    "       O   |\n",
    "      /|   |\n",
    "           |\n",
    "           |\n",
    "    =========\n",
    "    \"\"\",\n",
    "    \"\"\"\n",
    "       -----\n",
    "       |   |\n",
    "       O   |\n",
    "       |   |\n",
    "           |\n",
    "           |\n",
    "    =========\n",
    "    \"\"\",\n",
    "    \"\"\"\n",
    "       -----\n",
    "       |   |\n",
    "       O   |\n",
    "           |\n",
    "           |\n",
    "           |\n",
    "    =========\n",
    "    \"\"\",\n",
    "    \"\"\"\n",
    "       -----\n",
    "       |   |\n",
    "           |\n",
    "           |\n",
    "           |\n",
    "           |\n",
    "    =========\n",
    "    \"\"\"]\n",
    "word_list = [\"superman\", \"spiderman\", \"aquaman\"]\n",
    "lives = 6\n",
    "game_over = False\n",
    "Choice = random.choice(word_list)\n",
    "display = []\n",
    "for i in range(len(Choice)):\n",
    "    display += '_'\n",
    "print(display)\n",
    "while not game_over:\n",
    "    guess = input(\"Guess a letter\").lower()\n",
    "    for position in range(len(Choice)):\n",
    "        letter = Choice[position]\n",
    "        if letter == guess:\n",
    "            display[position] = guess\n",
    "    print(display)\n",
    "    if guess not in Choice:\n",
    "        lives -= 1\n",
    "        print(stages[lives])\n",
    "        print(f\"Lives left: {lives}\")\n",
    "        if lives == 0:\n",
    "            game_over = True\n",
    "            print(\"You Lose! The word was:\", Choice)\n",
    "\n",
    "    if '_' not in display:\n",
    "        game_over = True\n",
    "        print(\"You Win!\")"
   ]
  }
 ],
 "metadata": {
  "kernelspec": {
   "display_name": "Python 3 (ipykernel)",
   "language": "python",
   "name": "python3"
  },
  "language_info": {
   "codemirror_mode": {
    "name": "ipython",
    "version": 3
   },
   "file_extension": ".py",
   "mimetype": "text/x-python",
   "name": "python",
   "nbconvert_exporter": "python",
   "pygments_lexer": "ipython3",
   "version": "3.12.7"
  }
 },
 "nbformat": 4,
 "nbformat_minor": 5
}
